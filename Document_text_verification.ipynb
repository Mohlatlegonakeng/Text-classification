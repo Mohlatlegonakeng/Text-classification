{
 "cells": [
  {
   "cell_type": "markdown",
   "metadata": {},
   "source": [
    "Author : Mohlatlego S. Nakeng\n",
    "\n",
    "Date created  : 05/03/2019 \n",
    "\n",
    "Purpose       : Text processing on the ID BOOK/ID CARDS IMAGES for verification and classification."
   ]
  },
  {
   "cell_type": "markdown",
   "metadata": {},
   "source": [
    "# Explanation"
   ]
  },
  {
   "cell_type": "markdown",
   "metadata": {},
   "source": [
    "1. About the model\n",
    "\n",
    "Multininomial Naive Bayers, useable as (MultinomialNB), is one of the popular Deep Learning/Machine learning Analysis tool for categorical data. I intend to use this model as an approach to image text classification using texts patterns for Natural Language processing.\n",
    "\n",
    "Applying this model to our dataset will help us improve our current classifications models. Adding the model will assits with ID images, ID cards, Passports, etc for verification."
   ]
  },
  {
   "cell_type": "markdown",
   "metadata": {},
   "source": [
    "2. What does the model do?\n",
    "\n",
    "Document classification is a classical machine learning problem. If there is a set of documents that is already categorized/labeled in existing categories, the task is to automatically categorize a new document into one of the existing categories.\n",
    "\n",
    "The model helps with words/texts classification, in our case it will help with text recognition for classifications on our documents."
   ]
  },
  {
   "cell_type": "markdown",
   "metadata": {},
   "source": [
    "3. Expected results"
   ]
  },
  {
   "cell_type": "markdown",
   "metadata": {},
   "source": [
    "We intend the model to give feedback of classification analysis of document ID(ID book or ID card:ID), based on texts.We should much be confident within certain accuracy level, judging from the concept,this works as supervised vector machine(SVM), were we pass in texts having expected results. My aim is that, if i pass in texts from  ID BOOK or ID CARD, i expect the machine to return back expected results, ID.ELSE INVLID ID."
   ]
  },
  {
   "cell_type": "markdown",
   "metadata": {},
   "source": [
    "# Data Preparation"
   ]
  },
  {
   "cell_type": "markdown",
   "metadata": {},
   "source": [
    "Data Type"
   ]
  },
  {
   "cell_type": "markdown",
   "metadata": {},
   "source": [
    "This concept relay on texts characters or texts files."
   ]
  },
  {
   "cell_type": "markdown",
   "metadata": {},
   "source": [
    "Importing usable tools for data preparation"
   ]
  },
  {
   "cell_type": "code",
   "execution_count": 1,
   "metadata": {},
   "outputs": [],
   "source": [
    "import pandas as pd #Loading our dataset"
   ]
  },
  {
   "cell_type": "markdown",
   "metadata": {},
   "source": [
    "Pandas : is an open free source for python programming launguage for data manipulation and analyis. It provides data structures and operations for manipulating numerical tables and time series. It is often regarded as the powerful Python data analysis Toolkit. \n",
    "https://pandas.pydata.org/pandas-docs/stable/"
   ]
  },
  {
   "cell_type": "markdown",
   "metadata": {},
   "source": [
    ">About the dataset."
   ]
  },
  {
   "cell_type": "markdown",
   "metadata": {},
   "source": [
    "To load into our train data, we first have to convert our texts-image datasets into much supportable format,I used spreadshet file instead of subfolders, since our dataset is too small as in vocubulary amount of texts based on image documents texts.\n",
    "\n",
    "By using text extraction methods - google-OCR(google-optical character recognition)\n",
    "\n",
    "The OCR method that worked efficiently and provided was the Google OCR. And has been processed already. For us to get the data, we pulled out preferred texts from the SQL database(manually), store them as a txt file."
   ]
  },
  {
   "cell_type": "markdown",
   "metadata": {},
   "source": [
    ">>Loading the data"
   ]
  },
  {
   "cell_type": "code",
   "execution_count": 2,
   "metadata": {},
   "outputs": [
    {
     "data": {
      "text/html": [
       "<div>\n",
       "<style scoped>\n",
       "    .dataframe tbody tr th:only-of-type {\n",
       "        vertical-align: middle;\n",
       "    }\n",
       "\n",
       "    .dataframe tbody tr th {\n",
       "        vertical-align: top;\n",
       "    }\n",
       "\n",
       "    .dataframe thead th {\n",
       "        text-align: right;\n",
       "    }\n",
       "</style>\n",
       "<table border=\"1\" class=\"dataframe\">\n",
       "  <thead>\n",
       "    <tr style=\"text-align: right;\">\n",
       "      <th></th>\n",
       "      <th>ID book</th>\n",
       "      <th>ocr_status</th>\n",
       "      <th>IMAGE_OCR_EXTRACT</th>\n",
       "    </tr>\n",
       "  </thead>\n",
       "  <tbody>\n",
       "    <tr>\n",
       "      <th>0</th>\n",
       "      <td>ID book</td>\n",
       "      <td>1</td>\n",
       "      <td>Home affairs ,Department Home Affairs,Republic...</td>\n",
       "    </tr>\n",
       "    <tr>\n",
       "      <th>1</th>\n",
       "      <td>ID book</td>\n",
       "      <td>1</td>\n",
       "      <td>I.D. No 970905 5673 088 S.A. Citizen, Surname ...</td>\n",
       "    </tr>\n",
       "    <tr>\n",
       "      <th>2</th>\n",
       "      <td>ID book</td>\n",
       "      <td>1</td>\n",
       "      <td>1.D.No.771031 0531089\\nKREWU\\nKREWU\\nNOSI CELO...</td>\n",
       "    </tr>\n",
       "    <tr>\n",
       "      <th>3</th>\n",
       "      <td>ID book</td>\n",
       "      <td>1</td>\n",
       "      <td>I.D. No. 960511 0867 089\\personal particulars\\...</td>\n",
       "    </tr>\n",
       "    <tr>\n",
       "      <th>4</th>\n",
       "      <td>ID book</td>\n",
       "      <td>1</td>\n",
       "      <td>I.D. No. 920908 0995 08\\nNOTICE OF PERSONAL PA...</td>\n",
       "    </tr>\n",
       "    <tr>\n",
       "      <th>5</th>\n",
       "      <td>ID book</td>\n",
       "      <td>1</td>\n",
       "      <td>ID No 960502 5714 087\\nNOTICE OF PERSONAL PRAT...</td>\n",
       "    </tr>\n",
       "    <tr>\n",
       "      <th>6</th>\n",
       "      <td>ID book</td>\n",
       "      <td>1</td>\n",
       "      <td>ID No 960502 5714 087\\nNOTICE OF PERSONAL PRAT...</td>\n",
       "    </tr>\n",
       "    <tr>\n",
       "      <th>7</th>\n",
       "      <td>ID book</td>\n",
       "      <td>1</td>\n",
       "      <td>ID No 960502 5714 087\\nNOTICE OF PERSONAL PRAT...</td>\n",
       "    </tr>\n",
       "    <tr>\n",
       "      <th>8</th>\n",
       "      <td>ID book</td>\n",
       "      <td>1</td>\n",
       "      <td>1 D. No. 961026 5982 089\\nKHOSA\\nCOLBERT HLAMU...</td>\n",
       "    </tr>\n",
       "    <tr>\n",
       "      <th>9</th>\n",
       "      <td>ID book</td>\n",
       "      <td>1</td>\n",
       "      <td>ID. No. 961026 5982 089\\nNOTICE OF PERSONAL PA...</td>\n",
       "    </tr>\n",
       "    <tr>\n",
       "      <th>10</th>\n",
       "      <td>ID book</td>\n",
       "      <td>1</td>\n",
       "      <td>REPUBLIC OF SOUTH AFRICA\\nNATIONAL IDENTITY CA...</td>\n",
       "    </tr>\n",
       "    <tr>\n",
       "      <th>11</th>\n",
       "      <td>ID book</td>\n",
       "      <td>1</td>\n",
       "      <td>REPUBLIC OF SOUTH AFRICA\\nNATIONAL IDENTITY CA...</td>\n",
       "    </tr>\n",
       "    <tr>\n",
       "      <th>12</th>\n",
       "      <td>ID book</td>\n",
       "      <td>1</td>\n",
       "      <td>GEREGISTREERDE WOON- EN POSADRES\\nI.D.No. 9406...</td>\n",
       "    </tr>\n",
       "    <tr>\n",
       "      <th>13</th>\n",
       "      <td>ID book</td>\n",
       "      <td>1</td>\n",
       "      <td>I.D.No. 930616 0932 08 5\\nTANA NA NA MALO MATU...</td>\n",
       "    </tr>\n",
       "    <tr>\n",
       "      <th>14</th>\n",
       "      <td>ID book</td>\n",
       "      <td>1</td>\n",
       "      <td>1.D.No.930616 0932 08 5\\nMLANGENI\\nLEBOGANG\\nS...</td>\n",
       "    </tr>\n",
       "    <tr>\n",
       "      <th>15</th>\n",
       "      <td>ID book</td>\n",
       "      <td>1</td>\n",
       "      <td>I.D. No. 860306 1078 088\\nSA CITIZEN\\nCE OF PE...</td>\n",
       "    </tr>\n",
       "    <tr>\n",
       "      <th>16</th>\n",
       "      <td>ID book</td>\n",
       "      <td>1</td>\n",
       "      <td>om\\n2008-02-28\\nDATE ISSUED\\nONY MUNOS\\n????n ...</td>\n",
       "    </tr>\n",
       "    <tr>\n",
       "      <th>17</th>\n",
       "      <td>ID book</td>\n",
       "      <td>1</td>\n",
       "      <td>om\\n2008-02-28\\nDATE ISSUED\\nONY MUNOS\\n????n ...</td>\n",
       "    </tr>\n",
       "    <tr>\n",
       "      <th>18</th>\n",
       "      <td>ID book</td>\n",
       "      <td>1</td>\n",
       "      <td>om\\n2008-02-28\\nDATE ISSUED\\nONY MUNOS\\n????n ...</td>\n",
       "    </tr>\n",
       "    <tr>\n",
       "      <th>19</th>\n",
       "      <td>ID book</td>\n",
       "      <td>1</td>\n",
       "      <td>I.D. No. 960628 5947 086\\nORA NA NA NA NA NA N...</td>\n",
       "    </tr>\n",
       "  </tbody>\n",
       "</table>\n",
       "</div>"
      ],
      "text/plain": [
       "    ID book  ocr_status                                  IMAGE_OCR_EXTRACT\n",
       "0   ID book           1  Home affairs ,Department Home Affairs,Republic...\n",
       "1   ID book           1  I.D. No 970905 5673 088 S.A. Citizen, Surname ...\n",
       "2   ID book           1  1.D.No.771031 0531089\\nKREWU\\nKREWU\\nNOSI CELO...\n",
       "3   ID book           1  I.D. No. 960511 0867 089\\personal particulars\\...\n",
       "4   ID book           1  I.D. No. 920908 0995 08\\nNOTICE OF PERSONAL PA...\n",
       "5   ID book           1  ID No 960502 5714 087\\nNOTICE OF PERSONAL PRAT...\n",
       "6   ID book           1  ID No 960502 5714 087\\nNOTICE OF PERSONAL PRAT...\n",
       "7   ID book           1  ID No 960502 5714 087\\nNOTICE OF PERSONAL PRAT...\n",
       "8   ID book           1  1 D. No. 961026 5982 089\\nKHOSA\\nCOLBERT HLAMU...\n",
       "9   ID book           1  ID. No. 961026 5982 089\\nNOTICE OF PERSONAL PA...\n",
       "10  ID book           1  REPUBLIC OF SOUTH AFRICA\\nNATIONAL IDENTITY CA...\n",
       "11  ID book           1  REPUBLIC OF SOUTH AFRICA\\nNATIONAL IDENTITY CA...\n",
       "12  ID book           1  GEREGISTREERDE WOON- EN POSADRES\\nI.D.No. 9406...\n",
       "13  ID book           1  I.D.No. 930616 0932 08 5\\nTANA NA NA MALO MATU...\n",
       "14  ID book           1  1.D.No.930616 0932 08 5\\nMLANGENI\\nLEBOGANG\\nS...\n",
       "15  ID book           1  I.D. No. 860306 1078 088\\nSA CITIZEN\\nCE OF PE...\n",
       "16  ID book           1  om\\n2008-02-28\\nDATE ISSUED\\nONY MUNOS\\n????n ...\n",
       "17  ID book           1  om\\n2008-02-28\\nDATE ISSUED\\nONY MUNOS\\n????n ...\n",
       "18  ID book           1  om\\n2008-02-28\\nDATE ISSUED\\nONY MUNOS\\n????n ...\n",
       "19  ID book           1  I.D. No. 960628 5947 086\\nORA NA NA NA NA NA N..."
      ]
     },
     "execution_count": 2,
     "metadata": {},
     "output_type": "execute_result"
    }
   ],
   "source": [
    "pd.read_excel('text-data.xlsx').head(20) #accesing file by use of pandas module"
   ]
  },
  {
   "cell_type": "markdown",
   "metadata": {},
   "source": [
    "1. DATA PROCESSING"
   ]
  },
  {
   "cell_type": "code",
   "execution_count": 54,
   "metadata": {},
   "outputs": [
    {
     "data": {
      "text/html": [
       "<div>\n",
       "<style scoped>\n",
       "    .dataframe tbody tr th:only-of-type {\n",
       "        vertical-align: middle;\n",
       "    }\n",
       "\n",
       "    .dataframe tbody tr th {\n",
       "        vertical-align: top;\n",
       "    }\n",
       "\n",
       "    .dataframe thead th {\n",
       "        text-align: right;\n",
       "    }\n",
       "</style>\n",
       "<table border=\"1\" class=\"dataframe\">\n",
       "  <thead>\n",
       "    <tr style=\"text-align: right;\">\n",
       "      <th></th>\n",
       "      <th>0</th>\n",
       "      <th>1</th>\n",
       "      <th>2</th>\n",
       "    </tr>\n",
       "  </thead>\n",
       "  <tbody>\n",
       "    <tr>\n",
       "      <th>0</th>\n",
       "      <td>ID book</td>\n",
       "      <td>ocr_status</td>\n",
       "      <td>IMAGE_OCR_EXTRACT</td>\n",
       "    </tr>\n",
       "    <tr>\n",
       "      <th>1</th>\n",
       "      <td>ID book</td>\n",
       "      <td>1</td>\n",
       "      <td>Home affairs ,Department Home Affairs,Republic...</td>\n",
       "    </tr>\n",
       "    <tr>\n",
       "      <th>2</th>\n",
       "      <td>ID book</td>\n",
       "      <td>1</td>\n",
       "      <td>I.D. No 970905 5673 088 S.A. Citizen, Surname ...</td>\n",
       "    </tr>\n",
       "    <tr>\n",
       "      <th>3</th>\n",
       "      <td>ID book</td>\n",
       "      <td>1</td>\n",
       "      <td>1.D.No.771031 0531089\\nKREWU\\nKREWU\\nNOSI CELO...</td>\n",
       "    </tr>\n",
       "    <tr>\n",
       "      <th>4</th>\n",
       "      <td>ID book</td>\n",
       "      <td>1</td>\n",
       "      <td>I.D. No. 960511 0867 089\\personal particulars\\...</td>\n",
       "    </tr>\n",
       "  </tbody>\n",
       "</table>\n",
       "</div>"
      ],
      "text/plain": [
       "         0           1                                                  2\n",
       "0  ID book  ocr_status                                  IMAGE_OCR_EXTRACT\n",
       "1  ID book           1  Home affairs ,Department Home Affairs,Republic...\n",
       "2  ID book           1  I.D. No 970905 5673 088 S.A. Citizen, Surname ...\n",
       "3  ID book           1  1.D.No.771031 0531089\\nKREWU\\nKREWU\\nNOSI CELO...\n",
       "4  ID book           1  I.D. No. 960511 0867 089\\personal particulars\\..."
      ]
     },
     "execution_count": 54,
     "metadata": {},
     "output_type": "execute_result"
    }
   ],
   "source": [
    "df= pd.read_excel('text-data.xlsx', header=None)\n",
    "df.head(5) # header=none helps dummy our categories"
   ]
  },
  {
   "cell_type": "code",
   "execution_count": 4,
   "metadata": {},
   "outputs": [
    {
     "name": "stdout",
     "output_type": "stream",
     "text": [
      "<class 'pandas.core.frame.DataFrame'>\n",
      "RangeIndex: 73 entries, 0 to 72\n",
      "Data columns (total 3 columns):\n",
      "0    73 non-null object\n",
      "1    73 non-null object\n",
      "2    73 non-null object\n",
      "dtypes: object(3)\n",
      "memory usage: 1.8+ KB\n"
     ]
    }
   ],
   "source": [
    "df.info() #getting more information about our dataframe"
   ]
  },
  {
   "cell_type": "markdown",
   "metadata": {},
   "source": [
    "Looking into our mapping categories, we have 41 texts data from ID documents and 32 texts data from passports documents.\n",
    "\n",
    "see below,"
   ]
  },
  {
   "cell_type": "code",
   "execution_count": 5,
   "metadata": {},
   "outputs": [
    {
     "data": {
      "text/plain": [
       "ID book      41\n",
       "Passport     32\n",
       "Name: 0, dtype: int64"
      ]
     },
     "execution_count": 5,
     "metadata": {},
     "output_type": "execute_result"
    }
   ],
   "source": [
    "y = df[0]\n",
    "y.value_counts() #reading the counts from the doc labels."
   ]
  },
  {
   "cell_type": "markdown",
   "metadata": {},
   "source": [
    "Label enconding\n",
    "\n",
    "ID = 0\n",
    "\n",
    "Passport = 1"
   ]
  },
  {
   "cell_type": "code",
   "execution_count": 6,
   "metadata": {},
   "outputs": [],
   "source": [
    "from sklearn.preprocessing import LabelEncoder\n",
    "import random #randomizing our dataset for training"
   ]
  },
  {
   "cell_type": "code",
   "execution_count": 7,
   "metadata": {},
   "outputs": [],
   "source": [
    "L = LabelEncoder() #convert to one-hot array\n",
    "y_encode = L.fit_transform(y)\n",
    "random.shuffle(y_encode)"
   ]
  },
  {
   "cell_type": "code",
   "execution_count": 8,
   "metadata": {},
   "outputs": [
    {
     "data": {
      "text/plain": [
       "array([0, 1, 1, 0, 1, 0, 1, 0, 1, 1, 1, 0, 0, 1, 0, 0, 0, 0, 1, 0, 1, 1,\n",
       "       1, 0, 0, 1, 0, 0, 0, 1, 0, 0, 0, 0, 1, 1, 0, 0, 0, 1, 1, 1, 1, 1,\n",
       "       0, 0, 0, 0, 0, 0, 0, 0, 0, 1, 0, 0, 0, 1, 1, 1, 1, 1, 0, 1, 0, 0,\n",
       "       0, 0, 1, 1, 1, 1, 0])"
      ]
     },
     "execution_count": 8,
     "metadata": {},
     "output_type": "execute_result"
    }
   ],
   "source": [
    "y_encode # this how our label variable will look like, shuffled for random selection."
   ]
  },
  {
   "cell_type": "markdown",
   "metadata": {},
   "source": [
    "# Text Preprocessing"
   ]
  },
  {
   "cell_type": "markdown",
   "metadata": {},
   "source": [
    "This part is about understanding the nature of our texts, like which words are important, which ones are not."
   ]
  },
  {
   "cell_type": "code",
   "execution_count": 9,
   "metadata": {},
   "outputs": [],
   "source": [
    "raw_text = df[2] # 2: IMAGE_ocr_extract column"
   ]
  },
  {
   "cell_type": "markdown",
   "metadata": {},
   "source": [
    "There are many feature engineering strategies for transforming text data into features. Some involve assigning each unique word-like term to a feature and counting the number of occurrences per training example As a result, each NLP problem requires a tailored approach to determine which terms are relevant and meaningful."
   ]
  },
  {
   "cell_type": "markdown",
   "metadata": {},
   "source": [
    ">Normalization"
   ]
  },
  {
   "cell_type": "markdown",
   "metadata": {},
   "source": [
    "But clearly there's a lot going on here:ID numbers, Address, and gratuitous whitespace and punctuation. Some terms are randomly capitalized, others are in all-caps. Since these terms might show up in any one of the training examples in countless forms, we need a way to ensure each training example is on equal footing via a preprocessing step called normalization.\n",
    "\n",
    "Instead of removing the following terms, for each training example, let's replace them with a specific string.\n",
    "\n",
    ".Replace ID No.  with 'idnumber'\n",
    "\n",
    ".Replace numbers with 'numbr'"
   ]
  },
  {
   "cell_type": "code",
   "execution_count": 11,
   "metadata": {},
   "outputs": [],
   "source": [
    "processed = raw_text.str.replace(\n",
    "    r'\\b(\\+\\d{1,2}\\s)?\\d?[\\-(.]?\\d{3}\\)?[\\s.-]?\\d{3}[\\s.-]?\\d{4}\\b',\n",
    "    'number')"
   ]
  },
  {
   "cell_type": "markdown",
   "metadata": {},
   "source": [
    "The ID No. or number digits below were replaced by \"idnumber\""
   ]
  },
  {
   "cell_type": "code",
   "execution_count": 13,
   "metadata": {},
   "outputs": [],
   "source": [
    "processed = processed.str.replace(r'[^\\w\\d\\s]', ' ')\n",
    "processed = processed.str.replace(r'\\s+', ' ')\n",
    "processed = processed.str.replace(r'^\\s+|\\s+?$', '')"
   ]
  },
  {
   "cell_type": "markdown",
   "metadata": {},
   "source": [
    "Here, we'll remove all punctuation. In addition, let's collapse all whitespace (spaces, line breaks, tabs) into a single space. Furthermore, we'll eliminate any leading or trailing whitespace."
   ]
  },
  {
   "cell_type": "code",
   "execution_count": 14,
   "metadata": {},
   "outputs": [],
   "source": [
    "processed = processed.str.replace(r'[^\\w\\d\\s]', ' ')\n",
    "processed = processed.str.replace(r'\\s+', ' ')\n",
    "processed = processed.str.replace(r'^\\s+|\\s+?$', '')\n",
    "processed = processed.str.replace(r'u003e ', '')\n",
    "processed = processed.str.replace(r'u003c ', '')\n",
    "processed = processed.str.replace(r'image_ocr_extract', '')\n",
    "processed = processed.str.replace(r'\\n', ' ')"
   ]
  },
  {
   "cell_type": "markdown",
   "metadata": {},
   "source": [
    "Here, we lowercase the entire texts"
   ]
  },
  {
   "cell_type": "code",
   "execution_count": 15,
   "metadata": {},
   "outputs": [],
   "source": [
    "processed = processed.str.lower()"
   ]
  },
  {
   "cell_type": "code",
   "execution_count": 16,
   "metadata": {},
   "outputs": [
    {
     "data": {
      "text/plain": [
       "0                                     image_ocr_extract\n",
       "1     home affairs department home affairs republic ...\n",
       "2     i d no number 088 s a citizen surname mabona f...\n",
       "3     1 d no 771031 0531089 nkrewu nkrewu nnosi celo...\n",
       "4     i d no number 089 personal particulars nbe com...\n",
       "5     i d no number 08 nnotice of personal particula...\n",
       "6     id no number 087 nnotice of personal praticula...\n",
       "7     id no number 087 nnotice of personal praticula...\n",
       "8     id no number 087 nnotice of personal praticula...\n",
       "9           1 d no number 089 nkhosa ncolbert hlamulo n\n",
       "10    id no number 089 nnotice of personal particula...\n",
       "11    republic of south africa nnational identity ca...\n",
       "12    republic of south africa nnational identity ca...\n",
       "13    geregistreerde woon en posadres ni d no number...\n",
       "14    i d no number 08 5 ntana na na malo matumaini ...\n",
       "15    1 d nonumber 08 5 nmlangeni nlebogang nsouth a...\n",
       "16    i d no number 088 nsa citizen nce of personal ...\n",
       "17    om n2008 02 28 ndate issued nony munos n n niv...\n",
       "18    om n2008 02 28 ndate issued nony munos n n niv...\n",
       "19    om n2008 02 28 ndate issued nony munos n n niv...\n",
       "Name: 2, dtype: object"
      ]
     },
     "execution_count": 16,
     "metadata": {},
     "output_type": "execute_result"
    }
   ],
   "source": [
    "processed.head(20)"
   ]
  },
  {
   "cell_type": "markdown",
   "metadata": {},
   "source": [
    "From above we can see that we have successfuly removed all spaces, line breaks, tabs and converted our entire texts to lower case."
   ]
  },
  {
   "cell_type": "markdown",
   "metadata": {},
   "source": [
    ">>Removing stop Words"
   ]
  },
  {
   "cell_type": "markdown",
   "metadata": {},
   "source": [
    "What are stop words?\n",
    "\n",
    "Stop words are such words that are often used in english launguage, words such as (\"the\", \"a\", \"an\", \"in\", \"there\").\n",
    "In natural language processing, useless words (data), are referred to as stop words.\n",
    "(ref: https://www.geeksforgeeks.org/removing-stop-words-nltk-python/)"
   ]
  },
  {
   "cell_type": "code",
   "execution_count": 17,
   "metadata": {},
   "outputs": [],
   "source": [
    "import nltk\n",
    "stop_words = nltk.corpus.stopwords.words('english')"
   ]
  },
  {
   "cell_type": "code",
   "execution_count": 18,
   "metadata": {},
   "outputs": [
    {
     "data": {
      "text/plain": [
       "['i', 'me', 'my', 'myself', 'we', 'our', 'ours', 'ourselves', 'you', \"you're\"]"
      ]
     },
     "execution_count": 18,
     "metadata": {},
     "output_type": "execute_result"
    }
   ],
   "source": [
    "stop_words[:10]"
   ]
  },
  {
   "cell_type": "code",
   "execution_count": 19,
   "metadata": {},
   "outputs": [],
   "source": [
    "processed = processed.apply(lambda x: ' '.join(\n",
    "    term for term in x.split() if term not in set(stop_words))\n",
    ")"
   ]
  },
  {
   "cell_type": "code",
   "execution_count": 20,
   "metadata": {},
   "outputs": [
    {
     "data": {
      "text/plain": [
       "0                                    image_ocr_extract\n",
       "1    home affairs department home affairs republic ...\n",
       "2    number 088 citizen surname mabona forenam emma...\n",
       "3    1 771031 0531089 nkrewu nkrewu nnosi celo swee...\n",
       "4    number 089 personal particulars nbe communicat...\n",
       "5    number 08 nnotice personal particulars ns citi...\n",
       "6    id number 087 nnotice personal praticulars nho...\n",
       "7    id number 087 nnotice personal praticulars nho...\n",
       "8    id number 087 nnotice personal praticulars nho...\n",
       "9               1 number 089 nkhosa ncolbert hlamulo n\n",
       "Name: 2, dtype: object"
      ]
     },
     "execution_count": 20,
     "metadata": {},
     "output_type": "execute_result"
    }
   ],
   "source": [
    "processed.head(10) #our texts data now with stop words removed."
   ]
  },
  {
   "cell_type": "markdown",
   "metadata": {},
   "source": [
    "The stop words are successfully removed"
   ]
  },
  {
   "cell_type": "code",
   "execution_count": 21,
   "metadata": {},
   "outputs": [],
   "source": [
    "import re\n",
    "from nltk.stem import PorterStemmer\n",
    "porter = PorterStemmer()\n",
    "def preprocess_text(messy_string):\n",
    "    assert(type(messy_string) == str)\n",
    "    cleaned = re.sub(r'\\b[\\w\\-.]+?@\\w+?\\.\\w{2,4}\\b', 'email', messy_string)\n",
    "    cleaned = re.sub(r'(http[s]?\\S+)|(\\w+\\.[A-Za-z]{2,4}\\S*)', 'httpaddr',\n",
    "                     cleaned)\n",
    "    cleaned = re.sub(r'£|\\$', 'moneysymb', cleaned)\n",
    "    cleaned = re.sub(\n",
    "        r'\\b(\\+\\d{1,2}\\s)?\\d?[\\-(.]?\\d{3}\\)?[\\s.-]?\\d{3}[\\s.-]?\\d{4}\\b',\n",
    "        'idnumbr', cleaned)\n",
    "    cleaned = re.sub(r'\\d+(\\.\\d+)?', 'numbr', cleaned)\n",
    "    cleaned = re.sub(r'[^\\w\\d\\s]', ' ', cleaned)\n",
    "    cleaned = re.sub(r'\\s+', ' ', cleaned)\n",
    "    cleaned = re.sub(r'^\\s+|\\s+?$', '', cleaned.lower())\n",
    "    return ' '.join(\n",
    "        porter.stem(term) \n",
    "        for term in cleaned.split()\n",
    "        if term not in set(stop_words)\n",
    "    )\n"
   ]
  },
  {
   "cell_type": "markdown",
   "metadata": {},
   "source": [
    "# Feature engineering"
   ]
  },
  {
   "cell_type": "markdown",
   "metadata": {},
   "source": [
    "Tokenization"
   ]
  },
  {
   "cell_type": "markdown",
   "metadata": {},
   "source": [
    "Tokens, are usually individual words (in languages like English) and \"tokenization\" is taking a text or set of text and breaking it up into its individual words. These tokens are then used as the input for other types of analysis or tasks, like parsing (automatically tagging the syntactic relationship between words)."
   ]
  },
  {
   "cell_type": "code",
   "execution_count": 22,
   "metadata": {},
   "outputs": [],
   "source": [
    "from sklearn.feature_extraction.text import TfidfVectorizer\n",
    "vectorizer = TfidfVectorizer(ngram_range=(1, 2))\n",
    "X_ngrams = vectorizer.fit_transform(processed)"
   ]
  },
  {
   "cell_type": "raw",
   "metadata": {},
   "source": [
    "# get the first vector out (for the first document)\n",
    "X = vectorizer\n",
    "# place tf-idf values in a pandas data frame\n",
    "df = pd.DataFrame(X.todense(), index=tfidf_vectorizer.get_feature_names(), columns=[\"tfidf\"])\n",
    "df.sort_values(by=[\"tfidf\"],ascending=False)"
   ]
  },
  {
   "cell_type": "markdown",
   "metadata": {},
   "source": [
    ">Key words extraction"
   ]
  },
  {
   "cell_type": "markdown",
   "metadata": {},
   "source": [
    "We use the Tfidfvectorizer from Scikit-learn for extraction of keywords in our text data"
   ]
  },
  {
   "cell_type": "markdown",
   "metadata": {},
   "source": [
    "TfidfVectorizer:\n",
    " Its function is  to convert a collection of raw documents or texts to a matrix of TF -IDF features\n",
    " >TF -IDF features\n",
    " \n",
    "Tfidf gives more information,like how important a word is to the doc label with respect to the corpus.\n",
    "\n",
    "-TF(Term frequency): it measures the amount of times a particular word appears in a single document.\n",
    "\n",
    "- IDF(Inverse Document Frequency):\n",
    "It helps us identify rare words, by providing us with the weights measurements. The lesser the word appears on a documnets the more weight it carries."
   ]
  },
  {
   "cell_type": "code",
   "execution_count": 23,
   "metadata": {},
   "outputs": [
    {
     "data": {
      "text/plain": [
       "(73, 2846)"
      ]
     },
     "execution_count": 23,
     "metadata": {},
     "output_type": "execute_result"
    }
   ],
   "source": [
    "X_ngrams.shape"
   ]
  },
  {
   "cell_type": "markdown",
   "metadata": {},
   "source": [
    "About the model\n",
    "\n",
    "Naive Bayes classifier for multinomial models\n",
    "\n",
    "The multinomial Naive Bayes classifier is suitable for classification with discrete features (e.g., word counts for text classification). The multinomial distribution normally needs integer feature counts. However, in practice, fractional counts such as tf-idf may also work."
   ]
  },
  {
   "cell_type": "code",
   "execution_count": 51,
   "metadata": {},
   "outputs": [],
   "source": [
    "from sklearn.model_selection import train_test_split\n",
    "from sklearn.metrics import classification_report, accuracy_score, confusion_matrix\n",
    "from sklearn.naive_bayes import MultinomialNB\n",
    "\n",
    "\n",
    "\n",
    "X_train, X_test, y_train, y_test = train_test_split(\n",
    "    X_ngrams,\n",
    "    y_encode,\n",
    "    test_size=0.5,\n",
    "    random_state=42,\n",
    "    stratify=y_encode\n",
    ")\n",
    "\n",
    "model= MultinomialNB()\n",
    "model.fit(X_train, y_train)\n",
    "y_pred = model.predict(X_train)"
   ]
  },
  {
   "cell_type": "markdown",
   "metadata": {},
   "source": [
    "Model Accuracy"
   ]
  },
  {
   "cell_type": "code",
   "execution_count": 67,
   "metadata": {},
   "outputs": [
    {
     "name": "stdout",
     "output_type": "stream",
     "text": [
      "The model accuracy is at: 94.44444444444444 %\n"
     ]
    }
   ],
   "source": [
    "print('The model accuracy is at:',accuracy_score(y_train, y_pred)*100, '%') #reading out the accuracy counts."
   ]
  },
  {
   "cell_type": "markdown",
   "metadata": {},
   "source": [
    "Confusison Matrice, for support analysis"
   ]
  },
  {
   "cell_type": "code",
   "execution_count": 53,
   "metadata": {},
   "outputs": [
    {
     "data": {
      "text/html": [
       "<div>\n",
       "<style scoped>\n",
       "    .dataframe tbody tr th:only-of-type {\n",
       "        vertical-align: middle;\n",
       "    }\n",
       "\n",
       "    .dataframe tbody tr th {\n",
       "        vertical-align: top;\n",
       "    }\n",
       "\n",
       "    .dataframe thead tr th {\n",
       "        text-align: left;\n",
       "    }\n",
       "</style>\n",
       "<table border=\"1\" class=\"dataframe\">\n",
       "  <thead>\n",
       "    <tr>\n",
       "      <th></th>\n",
       "      <th></th>\n",
       "      <th colspan=\"2\" halign=\"left\">predicted</th>\n",
       "    </tr>\n",
       "    <tr>\n",
       "      <th></th>\n",
       "      <th></th>\n",
       "      <th>ID book</th>\n",
       "      <th>Passport</th>\n",
       "    </tr>\n",
       "  </thead>\n",
       "  <tbody>\n",
       "    <tr>\n",
       "      <th rowspan=\"2\" valign=\"top\">actual</th>\n",
       "      <th>ID book</th>\n",
       "      <td>20</td>\n",
       "      <td>0</td>\n",
       "    </tr>\n",
       "    <tr>\n",
       "      <th>Passport</th>\n",
       "      <td>2</td>\n",
       "      <td>14</td>\n",
       "    </tr>\n",
       "  </tbody>\n",
       "</table>\n",
       "</div>"
      ],
      "text/plain": [
       "                predicted         \n",
       "                  ID book Passport\n",
       "actual ID book         20        0\n",
       "       Passport         2       14"
      ]
     },
     "execution_count": 53,
     "metadata": {},
     "output_type": "execute_result"
    }
   ],
   "source": [
    "pd.DataFrame(\n",
    "    confusion_matrix(y_train, y_pred),\n",
    "    index=[['actual', 'actual'], ['ID book', 'Passport']],\n",
    "    columns=[['predicted', 'predicted'], ['ID book', 'Passport']]\n",
    ")"
   ]
  },
  {
   "cell_type": "markdown",
   "metadata": {},
   "source": [
    "Confusion matrix analysis Explained"
   ]
  },
  {
   "cell_type": "markdown",
   "metadata": {},
   "source": [
    "TN: True Negative = 20\n",
    "    \n",
    "FP: False Positives= 0\n",
    "    \n",
    "FN: False Negatives = 2\n",
    "    \n",
    "TP: True Positives = 14"
   ]
  },
  {
   "cell_type": "markdown",
   "metadata": {},
   "source": [
    "Interpretation:"
   ]
  },
  {
   "cell_type": "markdown",
   "metadata": {},
   "source": [
    "From the confusion matrice output information:\n",
    "We found that,we had sucessfully  trained n=36 group of texts, that is 50% of our data.\n",
    "Within 36 trained data, 20 were prediceted as IDs. 14 were correctly predicted as not IDs."
   ]
  },
  {
   "cell_type": "code",
   "execution_count": 28,
   "metadata": {},
   "outputs": [],
   "source": [
    "from sklearn.model_selection import learning_curve, GridSearchCV, StratifiedShuffleSplit, cross_val_score\n",
    "import numpy as np\n"
   ]
  },
  {
   "cell_type": "code",
   "execution_count": 29,
   "metadata": {},
   "outputs": [],
   "source": [
    "param_grid = [{'C': np.logspace(-4, 4, 20)}]\n",
    "\n",
    "grid_search = GridSearchCV(\n",
    "    estimator=svm.LinearSVC(loss='hinge'),\n",
    "    param_grid=param_grid,\n",
    "    cv=StratifiedShuffleSplit(n_splits=10, test_size=0.1, random_state=42),\n",
    "    scoring='f1',\n",
    "    n_jobs=5\n",
    ")\n"
   ]
  },
  {
   "cell_type": "code",
   "execution_count": 30,
   "metadata": {},
   "outputs": [
    {
     "name": "stderr",
     "output_type": "stream",
     "text": [
      "C:\\Users\\MohlatlegoN\\.conda\\envs\\scikit-learn\\lib\\site-packages\\sklearn\\svm\\base.py:922: ConvergenceWarning: Liblinear failed to converge, increase the number of iterations.\n",
      "  \"the number of iterations.\", ConvergenceWarning)\n"
     ]
    }
   ],
   "source": [
    "grid_search.fit(X_ngrams, y_encode)\n",
    "final_clf = MultinomialNB()\n",
    "final_clf.fit(X_ngrams, y_encode);"
   ]
  },
  {
   "cell_type": "markdown",
   "metadata": {},
   "source": [
    "The Vectorizer"
   ]
  },
  {
   "cell_type": "code",
   "execution_count": 31,
   "metadata": {},
   "outputs": [
    {
     "data": {
      "text/plain": [
       "birth          -7.225876\n",
       "ndate          -7.382677\n",
       "republic       -7.390404\n",
       "number         -7.396392\n",
       "africa         -7.412280\n",
       "affairs        -7.463939\n",
       "date           -7.493411\n",
       "south africa   -7.496588\n",
       "nand           -7.499612\n",
       "south          -7.508061\n",
       "dtype: float64"
      ]
     },
     "execution_count": 31,
     "metadata": {},
     "output_type": "execute_result"
    }
   ],
   "source": [
    "pd.Series(\n",
    "    final_clf.coef_.T.ravel(),\n",
    "    index=vectorizer.get_feature_names()\n",
    ").sort_values(ascending=False)[:10]"
   ]
  },
  {
   "cell_type": "markdown",
   "metadata": {},
   "source": [
    "Binary decision making:"
   ]
  },
  {
   "cell_type": "code",
   "execution_count": 32,
   "metadata": {},
   "outputs": [],
   "source": [
    "def doc_filter(DOC):\n",
    "    if final_clf.predict(vectorizer.transform([preprocess_text(DOC)])):\n",
    "        return 'ID'\n",
    "    else:\n",
    "        return 'invalid_ID'"
   ]
  },
  {
   "cell_type": "markdown",
   "metadata": {},
   "source": [
    "# Testing"
   ]
  },
  {
   "cell_type": "markdown",
   "metadata": {},
   "source": [
    "Test image"
   ]
  },
  {
   "cell_type": "code",
   "execution_count": 215,
   "metadata": {},
   "outputs": [
    {
     "data": {
      "image/png": "[encoded data removed]",
      "text/plain": [
       "<Figure size 432x288 with 1 Axes>"
      ]
     },
     "metadata": {
      "needs_background": "light"
     },
     "output_type": "display_data"
    }
   ],
   "source": [
    "import matplotlib.image as MI \n",
    "import matplotlib.pyplot as plt \n",
    "ID = MI.imread('./278.jpg')\n",
    "plt.imshow(ID, cmap='Set3') \n",
    "plt.show()"
   ]
  },
  {
   "cell_type": "markdown",
   "metadata": {},
   "source": [
    "Below is the texts data pulled from the database for this particular image."
   ]
  },
  {
   "cell_type": "code",
   "execution_count": 56,
   "metadata": {},
   "outputs": [],
   "source": [
    "Text ='ID No. 79 1114 0426 082\\r\\nS.A citizen\\r\\nsurname:\\r\\nMotlhaka\\r\\nforenames:\\r\\nSello Helda\\r\\nCountry of birth:\\r\\nSouth Africa\\r\\nDate of birth;\\r\\n1979-11-14\\r\\nDate issued:\\r\\n2011-06-23\\r\\nIssued by authority of the director-general home affairs.'"
   ]
  },
  {
   "cell_type": "code",
   "execution_count": 57,
   "metadata": {},
   "outputs": [
    {
     "data": {
      "text/plain": [
       "'ID No. 79 1114 0426 082\\r\\nS.A citizen\\r\\nsurname:\\r\\nMotlhaka\\r\\nforenames:\\r\\nSello Helda\\r\\nCountry of birth:\\r\\nSouth Africa\\r\\nDate of birth;\\r\\n1979-11-14\\r\\nDate issued:\\r\\n2011-06-23\\r\\nIssued by authority of the director-general home affairs.'"
      ]
     },
     "execution_count": 57,
     "metadata": {},
     "output_type": "execute_result"
    }
   ],
   "source": [
    "Text"
   ]
  },
  {
   "cell_type": "code",
   "execution_count": 58,
   "metadata": {},
   "outputs": [
    {
     "data": {
      "text/plain": [
       "'ID'"
      ]
     },
     "execution_count": 58,
     "metadata": {},
     "output_type": "execute_result"
    }
   ],
   "source": [
    "doc_filter(Text)"
   ]
  },
  {
   "cell_type": "markdown",
   "metadata": {},
   "source": [
    "Testing with the texts not from an ID "
   ]
  },
  {
   "cell_type": "code",
   "execution_count": 59,
   "metadata": {},
   "outputs": [
    {
     "data": {
      "text/plain": [
       "'invalid_ID'"
      ]
     },
     "execution_count": 59,
     "metadata": {},
     "output_type": "execute_result"
    }
   ],
   "source": [
    "doc_filter('Temporary permit. Permission is hereby granted to the following person as hoor of personal particulars of holder, surname: Bekore, name: Menoistu Wolde. Date of birth 21/10/19787. Nationality of Ethopia.The holder of the permit may reside temporaly in the Republic of Soumn Aho o p pose of Refugees Act No. 130 of 1998. The permit holder shall without expenses to the state, leave the Republic on beton 10012019, such later date as duly authorised by a Refugee Status Determ on icerisher application for anyone. The permit entities the holder to .Failure to comply with the conditions of this permit will be dealt of Section 37 and Second of the Refugees Act 1998. All permit holder are obliged to respect the laws of South Africa. This permit will lapse if the permit holder does not appear in person as required at the designed Refugee Reconomic nor if he/she departs from the Republic without prior authorisation to the Director General. All other permits issued prior to the issuance of this permit are automatically nulled. Other conditions.')"
   ]
  },
  {
   "cell_type": "code",
   "execution_count": 60,
   "metadata": {},
   "outputs": [
    {
     "data": {
      "text/plain": [
       "'invalid_ID'"
      ]
     },
     "execution_count": 60,
     "metadata": {},
     "output_type": "execute_result"
    }
   ],
   "source": [
    "doc_filter('om\\n2008-02-28\\nDATE ISSUED\\nONY MUNOS\\n????n nivo\\n80-II-0661\\nV JV-ains\\nHUOMIOONO DISIO\\nKAO POSKADORESS\\nMPHO VERONICA\\nDEPARTEVENT VAN\\nVOORNAMENORENAMES\\nDowd\\nwood\\nNOWSOYD\\nNUSUN\\nISINOS\\nMYANMA\\n\",')"
   ]
  },
  {
   "cell_type": "code",
   "execution_count": 61,
   "metadata": {},
   "outputs": [
    {
     "data": {
      "text/plain": [
       "'ID'"
      ]
     },
     "execution_count": 61,
     "metadata": {},
     "output_type": "execute_result"
    }
   ],
   "source": [
    "doc_filter('ID No. 79 1114 0426 082\\r\\nS.A citizen\\r\\nsurname:\\r\\nMotlhaka\\r\\nforenames:\\r\\nSello Helda\\r\\nCountry of birth:\\r\\nSouth Africa\\r\\nDate of birth;\\r\\n1979-11-14\\r\\nDate issued:\\r\\n2011-06-23\\r\\nIssued by authority of the director-general home affairs.')"
   ]
  },
  {
   "cell_type": "code",
   "execution_count": 62,
   "metadata": {},
   "outputs": [
    {
     "data": {
      "text/plain": [
       "'invalid_ID'"
      ]
     },
     "execution_count": 62,
     "metadata": {},
     "output_type": "execute_result"
    }
   ],
   "source": [
    "doc_filter('i am a roobot 2.0')"
   ]
  },
  {
   "cell_type": "code",
   "execution_count": 63,
   "metadata": {},
   "outputs": [
    {
     "data": {
      "text/plain": [
       "'invalid_ID'"
      ]
     },
     "execution_count": 63,
     "metadata": {},
     "output_type": "execute_result"
    }
   ],
   "source": [
    "doc_filter('npassport')"
   ]
  },
  {
   "cell_type": "code",
   "execution_count": 64,
   "metadata": {},
   "outputs": [
    {
     "data": {
      "text/plain": [
       "'invalid_ID'"
      ]
     },
     "execution_count": 64,
     "metadata": {},
     "output_type": "execute_result"
    }
   ],
   "source": [
    "doc_filter('identity document')"
   ]
  },
  {
   "cell_type": "markdown",
   "metadata": {},
   "source": [
    "# Savinig the model"
   ]
  },
  {
   "cell_type": "code",
   "execution_count": 65,
   "metadata": {},
   "outputs": [],
   "source": [
    "from joblib import dump"
   ]
  },
  {
   "cell_type": "code",
   "execution_count": 66,
   "metadata": {},
   "outputs": [
    {
     "data": {
      "text/plain": [
       "['./models/text_clf.joblib']"
      ]
     },
     "execution_count": 66,
     "metadata": {},
     "output_type": "execute_result"
    }
   ],
   "source": [
    "model_name = './models/text_clf.joblib'\n",
    "dump(model,model_name)"
   ]
  },
  {
   "cell_type": "code",
   "execution_count": null,
   "metadata": {},
   "outputs": [],
   "source": []
  },
  {
   "cell_type": "code",
   "execution_count": null,
   "metadata": {},
   "outputs": [],
   "source": []
  },
  {
   "cell_type": "code",
   "execution_count": null,
   "metadata": {},
   "outputs": [],
   "source": []
  }
 ],
 "metadata": {
  "kernelspec": {
   "display_name": "Python 3",
   "language": "python",
   "name": "python3"
  },
  "language_info": {
   "codemirror_mode": {
    "name": "ipython",
    "version": 3
   },
   "file_extension": ".py",
   "mimetype": "text/x-python",
   "name": "python",
   "nbconvert_exporter": "python",
   "pygments_lexer": "ipython3",
   "version": "3.7.0"
  }
 },
 "nbformat": 4,
 "nbformat_minor": 2
}
